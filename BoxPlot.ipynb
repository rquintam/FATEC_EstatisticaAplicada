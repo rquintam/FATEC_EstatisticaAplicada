{
  "nbformat": 4,
  "nbformat_minor": 0,
  "metadata": {
    "colab": {
      "name": "BoxPlot.ipynb",
      "provenance": [],
      "authorship_tag": "ABX9TyMm9OLpx1m4SL3eXwXAhrtH",
      "include_colab_link": true
    },
    "kernelspec": {
      "name": "python3",
      "display_name": "Python 3"
    }
  },
  "cells": [
    {
      "cell_type": "markdown",
      "metadata": {
        "id": "view-in-github",
        "colab_type": "text"
      },
      "source": [
        "<a href=\"https://colab.research.google.com/github/rquintam/FATEC_EstatisticaAplicada/blob/master/BoxPlot.ipynb\" target=\"_parent\"><img src=\"https://colab.research.google.com/assets/colab-badge.svg\" alt=\"Open In Colab\"/></a>"
      ]
    },
    {
      "cell_type": "code",
      "metadata": {
        "id": "xYSaz3yDOr-0"
      },
      "source": [
        "import matplotlib.pyplot as plt"
      ],
      "execution_count": null,
      "outputs": []
    },
    {
      "cell_type": "markdown",
      "metadata": {
        "id": "xZbro8RInPw5"
      },
      "source": [
        "# **<center>Estística Aplicada | FATEC-RP - 2020/2**</center>\n",
        "# <center>Rodrigo Luís Quintam</center>\n",
        "# <center>Exercício Sala - Separatrizes</center>"
      ]
    },
    {
      "cell_type": "markdown",
      "metadata": {
        "id": "p9j3lKSOVzPy"
      },
      "source": [
        "## **Exercício 1**\n",
        "### Encontrar o resumo dos 5 números e construir o Box-plot. Dizer e justificar se há outlier\n",
        "\n",
        "### **_Roteiro_**\n",
        "\n",
        "    n = 50\n",
        "\n",
        "1. Encontrar o resumo dos números:\n",
        "\n",
        "    x<sub>i</sub> = 1 dia  \n",
        "    Q<sub>1</sub> = 14 dias  \n",
        "        Posição Q1 = n / 4\n",
        "        Posição Q1 = 50 / 4 = 12,5 (arredonda) => 13ª posição  \n",
        "    Q<sub>2</sub> = 28,5 dias\n",
        "        Posição Q2 = n / 2\n",
        "        Posição Q2 = 50 / 2 => 25ª posição (se for inteiro, faz a média\n",
        "                     aritmética do valor dessa posição com o valor da posição\n",
        "                     seguinte)\n",
        "        M.A. = (28 + 29) / 2 => 28,5 dias\n",
        "          \n",
        "    Q<sub>3</sub> = 54 dias  \n",
        "        Posição Q3 = (3 * n) / 4 = 150 / 4 = 37,5 (arredonda) => 38ª posição  \n",
        "    x<sub>n</sub> = 165 dias  \n",
        "\n",
        "x<sub>i</sub>|Q<sub>1</sub>|Q<sub>2</sub>|Q<sub>3</sub>|x<sub>n</sub>\n",
        "---|---|-----|---|---\n",
        "1|14|28,5|54|165\n",
        "\n",
        "    \n",
        "    \n",
        "\n"
      ]
    },
    {
      "cell_type": "code",
      "metadata": {
        "id": "ybKVLOb3OySv",
        "outputId": "e74ba9af-be07-4b7a-b550-b2ff0d086dca",
        "colab": {
          "base_uri": "https://localhost:8080/",
          "height": 268
        }
      },
      "source": [
        "dados = [\n",
        "  1, 2, 4, 4, 5, 5, 5, 10, 11, 12, 13, \n",
        "  13, 14, 19, 20, 21, 22, 23, 26, 26,\n",
        "  26, 27, 27, 27, 28, 29, 29, 29, 30, 31,\n",
        "  31, 32, 33, 35, 35, 36, 52, 54, 61, 68,\n",
        "  74, 81, 94, 110, 110, 123, 126, 137, 152, 165\n",
        "]\n",
        "\n",
        "ax = plt.subplot()\n",
        "ax.set_title('Figura 1: Dias entre o recebimento de uma reclamação e a solução do problema')\n",
        "plt.ylabel('Número de dias')\n",
        "plot = ax.boxplot(\n",
        "    dados,\n",
        "    patch_artist = True,\n",
        "    labels = [''],\n",
        ")"
      ],
      "execution_count": null,
      "outputs": [
        {
          "output_type": "display_data",
          "data": {
            "image/png": "[encoded data removed]",
            "text/plain": [
              "<Figure size 432x288 with 1 Axes>"
            ]
          },
          "metadata": {
            "tags": [],
            "needs_background": "light"
          }
        }
      ]
    },
    {
      "cell_type": "code",
      "metadata": {
        "id": "Ab6Rk8GQPC_u"
      },
      "source": [
        ""
      ],
      "execution_count": null,
      "outputs": []
    },
    {
      "cell_type": "markdown",
      "metadata": {
        "id": "f8uD2iV6gWX4"
      },
      "source": [
        "Sim, há outliers no conjunto de dados, conforme mostra o boxplot. Podemos observar que os valores 123, 126, 137, 152 e 165 estão acima do limite superior e representam os pontos exteriores."
      ]
    },
    {
      "cell_type": "markdown",
      "metadata": {
        "id": "qLWhWRBChl9T"
      },
      "source": [
        "## **Exercício 2**\n",
        "### Estão corretas as afirmativas I e II, alternativa B\n",
        "\n",
        "    I. verdadeira, antes do tratamento o peso mediano é de aproximadamente 89 kg, portanto superior à 87 kg \n",
        "    II. verdadera, antes do tratamento, no mínimo, 25% dos pacientes pesavam 93 kg ou mais\n",
        "    III. falsa, 75% ou mais passaram a pesar mais que 84 kg\n",
        "    IV. falsa, no mínimo 25% passaram a pesar menos que 84 kg"
      ]
    }
  ]
}